{
 "cells": [
  {
   "cell_type": "code",
   "execution_count": 1,
   "metadata": {},
   "outputs": [],
   "source": [
    "import pandas as pd"
   ]
  },
  {
   "cell_type": "code",
   "execution_count": 3,
   "metadata": {},
   "outputs": [],
   "source": [
    "scrape_posts_by_profile_df = pd.read_csv(\"scrape_posts_by_profile.csv\")\n",
    "prepare_media_enrichment_data_df = pd.read_csv(\"prepare_media_enrichment_data.csv\")"
   ]
  },
  {
   "cell_type": "code",
   "execution_count": 5,
   "metadata": {},
   "outputs": [
    {
     "data": {
      "text/plain": [
       "Index(['Unnamed: 0', 'urn', 'full_urn', 'posted_at', 'text', 'url',\n",
       "       'post_type', 'author', 'stats', 'document', 'pagination_token', 'media',\n",
       "       'reshared_post', 'article', 'comments', 'reposts', 'reshared_post_url',\n",
       "       'reshared_post_total_reactions', 'media_type', 'media_url',\n",
       "       'article_url', 'article_title'],\n",
       "      dtype='object')"
      ]
     },
     "execution_count": 5,
     "metadata": {},
     "output_type": "execute_result"
    }
   ],
   "source": [
    "scrape_posts_by_profile_df.columns"
   ]
  },
  {
   "cell_type": "code",
   "execution_count": 6,
   "metadata": {},
   "outputs": [
    {
     "data": {
      "text/plain": [
       "Index(['Unnamed: 0', 'post_url', 'media_type', 'duration', 'mime_type',\n",
       "       'thumbnail', 'video_url', 'image_url', 'post', 'author', 'media',\n",
       "       'stats'],\n",
       "      dtype='object')"
      ]
     },
     "execution_count": 6,
     "metadata": {},
     "output_type": "execute_result"
    }
   ],
   "source": [
    "prepare_media_enrichment_data_df.columns"
   ]
  },
  {
   "cell_type": "code",
   "execution_count": 47,
   "metadata": {},
   "outputs": [],
   "source": [
    "merged = pd.merge(left=scrape_posts_by_profile_df, \n",
    "                  right=prepare_media_enrichment_data_df,\n",
    "                  left_on=\"url\",\n",
    "                  right_on=\"post_url\",\n",
    "                  how=\"outer\")"
   ]
  },
  {
   "cell_type": "code",
   "execution_count": 48,
   "metadata": {},
   "outputs": [],
   "source": [
    "merged = merged[[\"url\",\n",
    "                 \"text\",\n",
    "                 \"post_type\",\n",
    "                 \"reshared_post\",\n",
    "                 \"article\",\n",
    "                 \"comments\",\n",
    "                 \"reposts\",\n",
    "                 \"reshared_post_url\",\n",
    "                 \"reshared_post_total_reactions\",\n",
    "                 \"media_type_x\",\n",
    "                 \"media_url\",\n",
    "                 \"article_url\",\n",
    "                 \"article_title\",\n",
    "                 \"duration\",\n",
    "                 \"mime_type\",\n",
    "                 \"thumbnail\",\n",
    "                 \"video_url\",\n",
    "                 \"image_url\",\n",
    "                 \"post\"]].rename(columns={\"media_type_x\": \"media_type\"})"
   ]
  },
  {
   "cell_type": "code",
   "execution_count": null,
   "metadata": {},
   "outputs": [],
   "source": []
  }
 ],
 "metadata": {
  "kernelspec": {
   "display_name": "venv",
   "language": "python",
   "name": "python3"
  },
  "language_info": {
   "codemirror_mode": {
    "name": "ipython",
    "version": 3
   },
   "file_extension": ".py",
   "mimetype": "text/x-python",
   "name": "python",
   "nbconvert_exporter": "python",
   "pygments_lexer": "ipython3",
   "version": "3.11.8"
  }
 },
 "nbformat": 4,
 "nbformat_minor": 2
}
