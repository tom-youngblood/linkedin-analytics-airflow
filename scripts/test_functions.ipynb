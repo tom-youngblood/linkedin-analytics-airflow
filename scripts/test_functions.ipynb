{
 "cells": [
  {
   "cell_type": "code",
   "execution_count": 1,
   "metadata": {},
   "outputs": [],
   "source": [
    "import pandas as pd"
   ]
  },
  {
   "cell_type": "code",
   "execution_count": 7,
   "metadata": {},
   "outputs": [],
   "source": [
    "three_posts = pd.read_csv(\"three_posts.csv\")"
   ]
  },
  {
   "cell_type": "code",
   "execution_count": 12,
   "metadata": {},
   "outputs": [],
   "source": [
    "media_scrape = pd.read_csv(\"media_scrape.csv\")"
   ]
  },
  {
   "cell_type": "code",
   "execution_count": 13,
   "metadata": {},
   "outputs": [
    {
     "data": {
      "text/html": [
       "<div>\n",
       "<style scoped>\n",
       "    .dataframe tbody tr th:only-of-type {\n",
       "        vertical-align: middle;\n",
       "    }\n",
       "\n",
       "    .dataframe tbody tr th {\n",
       "        vertical-align: top;\n",
       "    }\n",
       "\n",
       "    .dataframe thead th {\n",
       "        text-align: right;\n",
       "    }\n",
       "</style>\n",
       "<table border=\"1\" class=\"dataframe\">\n",
       "  <thead>\n",
       "    <tr style=\"text-align: right;\">\n",
       "      <th></th>\n",
       "      <th>Unnamed: 0</th>\n",
       "      <th>post</th>\n",
       "      <th>author</th>\n",
       "      <th>media</th>\n",
       "      <th>stats</th>\n",
       "      <th>post_url</th>\n",
       "      <th>media_type</th>\n",
       "      <th>duration</th>\n",
       "      <th>mime_type</th>\n",
       "      <th>thumbnail</th>\n",
       "      <th>video_url</th>\n",
       "      <th>image_url</th>\n",
       "    </tr>\n",
       "  </thead>\n",
       "  <tbody>\n",
       "    <tr>\n",
       "      <th>0</th>\n",
       "      <td>0</td>\n",
       "      <td>{'id': '7340415388322586627', 'url': 'https://...</td>\n",
       "      <td>{'name': 'Sean Goldfaden', 'headline': 'Founde...</td>\n",
       "      <td>[{'type': 'document', 'title': \"Rick Smith's T...</td>\n",
       "      <td>{'total_reactions': 8, 'reactions': {'like': 8...</td>\n",
       "      <td>https://www.linkedin.com/posts/sean-goldfaden_...</td>\n",
       "      <td>document</td>\n",
       "      <td>NaN</td>\n",
       "      <td>NaN</td>\n",
       "      <td>NaN</td>\n",
       "      <td>NaN</td>\n",
       "      <td>NaN</td>\n",
       "    </tr>\n",
       "  </tbody>\n",
       "</table>\n",
       "</div>"
      ],
      "text/plain": [
       "   Unnamed: 0                                               post  \\\n",
       "0           0  {'id': '7340415388322586627', 'url': 'https://...   \n",
       "\n",
       "                                              author  \\\n",
       "0  {'name': 'Sean Goldfaden', 'headline': 'Founde...   \n",
       "\n",
       "                                               media  \\\n",
       "0  [{'type': 'document', 'title': \"Rick Smith's T...   \n",
       "\n",
       "                                               stats  \\\n",
       "0  {'total_reactions': 8, 'reactions': {'like': 8...   \n",
       "\n",
       "                                            post_url media_type  duration  \\\n",
       "0  https://www.linkedin.com/posts/sean-goldfaden_...   document       NaN   \n",
       "\n",
       "   mime_type  thumbnail  video_url  image_url  \n",
       "0        NaN        NaN        NaN        NaN  "
      ]
     },
     "execution_count": 13,
     "metadata": {},
     "output_type": "execute_result"
    }
   ],
   "source": [
    "media_scrape"
   ]
  },
  {
   "cell_type": "code",
   "execution_count": 11,
   "metadata": {},
   "outputs": [
    {
     "data": {
      "text/plain": [
       "'https://www.linkedin.com/posts/sean-goldfaden_rick-smiths-tips-for-vc-success-activity-7340415388322586627-wkmA?utm_source=social_share_send&utm_medium=member_desktop_web&rcm=ACoAAFv3Dr4BN8nSB5ZtHec3sqR14h9Sg79shsQ'"
      ]
     },
     "execution_count": 11,
     "metadata": {},
     "output_type": "execute_result"
    }
   ],
   "source": [
    "three_posts[\"url\"][0]"
   ]
  },
  {
   "cell_type": "code",
   "execution_count": 18,
   "metadata": {},
   "outputs": [
    {
     "name": "stdout",
     "output_type": "stream",
     "text": [
      "Unnamed: 0                                                                       0\n",
      "urn                                                            7340415388322586627\n",
      "full_urn                                        urn:li:ugcPost:7338633005688610817\n",
      "posted_at                        {'date': '2025-06-16 18:30:06', 'relative': '3...\n",
      "text                             “There’s nothing more fun than saying yes.\\nBu...\n",
      "url                              https://www.linkedin.com/posts/sean-goldfaden_...\n",
      "post_type                                                                  regular\n",
      "author                                                              Sean Goldfaden\n",
      "stats                            {'total_reactions': 8, 'like': 8, 'support': 0...\n",
      "document                         {'title': \"Rick Smith's Tips for VC Success\", ...\n",
      "pagination_token                 dXJuOmxpOmFjdGl2aXR5OjY5OTc5NzQ4MTk2NjUyODUxMj...\n",
      "media                                                                          NaN\n",
      "reshared_post                                                                  NaN\n",
      "article                                                                        NaN\n",
      "comments                                                                         1\n",
      "reposts                                                                          0\n",
      "reshared_post_url                                                              NaN\n",
      "reshared_post_total_reactions                                                  NaN\n",
      "media_type                                                                     NaN\n",
      "media_url                                                                      NaN\n",
      "article_url                                                                    NaN\n",
      "article_title                                                                  NaN\n",
      "Name: 0, dtype: object\n"
     ]
    },
    {
     "ename": "KeyError",
     "evalue": "'key of type tuple not found and not a MultiIndex'",
     "output_type": "error",
     "traceback": [
      "\u001b[31m---------------------------------------------------------------------------\u001b[39m",
      "\u001b[31mKeyError\u001b[39m                                  Traceback (most recent call last)",
      "\u001b[36mCell\u001b[39m\u001b[36m \u001b[39m\u001b[32mIn[18]\u001b[39m\u001b[32m, line 7\u001b[39m\n\u001b[32m      4\u001b[39m \u001b[38;5;28;01mfor\u001b[39;00m index, row \u001b[38;5;129;01min\u001b[39;00m three_posts.iterrows():\n\u001b[32m      5\u001b[39m     \u001b[38;5;66;03m# Get url\u001b[39;00m\n\u001b[32m      6\u001b[39m     \u001b[38;5;28mprint\u001b[39m(row)\n\u001b[32m----> \u001b[39m\u001b[32m7\u001b[39m     values_to_append = \u001b[43mrow\u001b[49m\u001b[43m[\u001b[49m\u001b[33;43m\"\u001b[39;49m\u001b[33;43mpost_url\u001b[39;49m\u001b[33;43m\"\u001b[39;49m\u001b[43m,\u001b[49m\u001b[43m \u001b[49m\u001b[33;43m\"\u001b[39;49m\u001b[33;43mmedia_type\u001b[39;49m\u001b[33;43m\"\u001b[39;49m\u001b[43m,\u001b[49m\u001b[43m \u001b[49m\u001b[33;43m\"\u001b[39;49m\u001b[33;43mduration\u001b[39;49m\u001b[33;43m\"\u001b[39;49m\u001b[43m,\u001b[49m\u001b[43m \u001b[49m\u001b[33;43m\"\u001b[39;49m\u001b[33;43mmime_type\u001b[39;49m\u001b[33;43m\"\u001b[39;49m\u001b[43m,\u001b[49m\u001b[43m \u001b[49m\u001b[33;43m\"\u001b[39;49m\u001b[33;43mthumbnail\u001b[39;49m\u001b[33;43m\"\u001b[39;49m\u001b[43m,\u001b[49m\u001b[43m \u001b[49m\u001b[33;43m\"\u001b[39;49m\u001b[33;43mvideo_url\u001b[39;49m\u001b[33;43m\"\u001b[39;49m\u001b[43m,\u001b[49m\u001b[43m \u001b[49m\u001b[33;43m\"\u001b[39;49m\u001b[33;43mimage_url\u001b[39;49m\u001b[33;43m\"\u001b[39;49m\u001b[43m]\u001b[49m\n\u001b[32m      8\u001b[39m     \u001b[38;5;28mprint\u001b[39m(values_to_append)\n",
      "\u001b[36mFile \u001b[39m\u001b[32m~/Documents/Main/Projects/Coefficient Labs/Coef/organic-social-pipeline-v2/venv/lib/python3.11/site-packages/pandas/core/series.py:1153\u001b[39m, in \u001b[36mSeries.__getitem__\u001b[39m\u001b[34m(self, key)\u001b[39m\n\u001b[32m   1150\u001b[39m     key = np.asarray(key, dtype=\u001b[38;5;28mbool\u001b[39m)\n\u001b[32m   1151\u001b[39m     \u001b[38;5;28;01mreturn\u001b[39;00m \u001b[38;5;28mself\u001b[39m._get_rows_with_mask(key)\n\u001b[32m-> \u001b[39m\u001b[32m1153\u001b[39m \u001b[38;5;28;01mreturn\u001b[39;00m \u001b[38;5;28;43mself\u001b[39;49m\u001b[43m.\u001b[49m\u001b[43m_get_with\u001b[49m\u001b[43m(\u001b[49m\u001b[43mkey\u001b[49m\u001b[43m)\u001b[49m\n",
      "\u001b[36mFile \u001b[39m\u001b[32m~/Documents/Main/Projects/Coefficient Labs/Coef/organic-social-pipeline-v2/venv/lib/python3.11/site-packages/pandas/core/series.py:1163\u001b[39m, in \u001b[36mSeries._get_with\u001b[39m\u001b[34m(self, key)\u001b[39m\n\u001b[32m   1158\u001b[39m     \u001b[38;5;28;01mraise\u001b[39;00m \u001b[38;5;167;01mTypeError\u001b[39;00m(\n\u001b[32m   1159\u001b[39m         \u001b[33m\"\u001b[39m\u001b[33mIndexing a Series with DataFrame is not \u001b[39m\u001b[33m\"\u001b[39m\n\u001b[32m   1160\u001b[39m         \u001b[33m\"\u001b[39m\u001b[33msupported, use the appropriate DataFrame column\u001b[39m\u001b[33m\"\u001b[39m\n\u001b[32m   1161\u001b[39m     )\n\u001b[32m   1162\u001b[39m \u001b[38;5;28;01melif\u001b[39;00m \u001b[38;5;28misinstance\u001b[39m(key, \u001b[38;5;28mtuple\u001b[39m):\n\u001b[32m-> \u001b[39m\u001b[32m1163\u001b[39m     \u001b[38;5;28;01mreturn\u001b[39;00m \u001b[38;5;28;43mself\u001b[39;49m\u001b[43m.\u001b[49m\u001b[43m_get_values_tuple\u001b[49m\u001b[43m(\u001b[49m\u001b[43mkey\u001b[49m\u001b[43m)\u001b[49m\n\u001b[32m   1165\u001b[39m \u001b[38;5;28;01melif\u001b[39;00m \u001b[38;5;129;01mnot\u001b[39;00m is_list_like(key):\n\u001b[32m   1166\u001b[39m     \u001b[38;5;66;03m# e.g. scalars that aren't recognized by lib.is_scalar, GH#32684\u001b[39;00m\n\u001b[32m   1167\u001b[39m     \u001b[38;5;28;01mreturn\u001b[39;00m \u001b[38;5;28mself\u001b[39m.loc[key]\n",
      "\u001b[36mFile \u001b[39m\u001b[32m~/Documents/Main/Projects/Coefficient Labs/Coef/organic-social-pipeline-v2/venv/lib/python3.11/site-packages/pandas/core/series.py:1207\u001b[39m, in \u001b[36mSeries._get_values_tuple\u001b[39m\u001b[34m(self, key)\u001b[39m\n\u001b[32m   1204\u001b[39m     \u001b[38;5;28;01mreturn\u001b[39;00m result\n\u001b[32m   1206\u001b[39m \u001b[38;5;28;01mif\u001b[39;00m \u001b[38;5;129;01mnot\u001b[39;00m \u001b[38;5;28misinstance\u001b[39m(\u001b[38;5;28mself\u001b[39m.index, MultiIndex):\n\u001b[32m-> \u001b[39m\u001b[32m1207\u001b[39m     \u001b[38;5;28;01mraise\u001b[39;00m \u001b[38;5;167;01mKeyError\u001b[39;00m(\u001b[33m\"\u001b[39m\u001b[33mkey of type tuple not found and not a MultiIndex\u001b[39m\u001b[33m\"\u001b[39m)\n\u001b[32m   1209\u001b[39m \u001b[38;5;66;03m# If key is contained, would have returned by now\u001b[39;00m\n\u001b[32m   1210\u001b[39m indexer, new_index = \u001b[38;5;28mself\u001b[39m.index.get_loc_level(key)\n",
      "\u001b[31mKeyError\u001b[39m: 'key of type tuple not found and not a MultiIndex'"
     ]
    }
   ],
   "source": [
    "# Iterate through links in scrape_posts_by_profile_output\n",
    "media_info_df = pd.DataFrame(columns=[\"post_url\", \"media_type\", \"duration\", \"mime_type\", \"thumbnail\", \"video_url\", \"image_url\"])\n",
    "\n",
    "for index, row in three_posts.iterrows():\n",
    "    # Get url\n",
    "    print(row)\n",
    "    values_to_append = row[\"post_url\", \"media_type\", \"duration\", \"mime_type\", \"thumbnail\", \"video_url\", \"image_url\"]\n",
    "    print(values_to_append)\n",
    "    \n",
    "\n",
    "    "
   ]
  },
  {
   "cell_type": "code",
   "execution_count": 19,
   "metadata": {},
   "outputs": [],
   "source": [
    "df_three = pd.read_csv(\"three_posts.csv\")"
   ]
  },
  {
   "cell_type": "code",
   "execution_count": 24,
   "metadata": {},
   "outputs": [
    {
     "name": "stdout",
     "output_type": "stream",
     "text": [
      "https://www.linkedin.com/posts/sean-goldfaden_rick-smiths-tips-for-vc-success-activity-7340415388322586627-wkmA?utm_source=social_share_send&utm_medium=member_desktop_web&rcm=ACoAAFv3Dr4BN8nSB5ZtHec3sqR14h9Sg79shsQ\n",
      "https://www.linkedin.com/posts/sean-goldfaden_founder-leadgen-marketing-activity-7339320686634573826-VHsY?utm_source=social_share_send&utm_medium=member_desktop_web&rcm=ACoAAFv3Dr4BN8nSB5ZtHec3sqR14h9Sg79shsQ\n",
      "https://www.linkedin.com/posts/sean-goldfaden_venturecapital-investor-investment-activity-7338603440203304961-07Vf?utm_source=social_share_send&utm_medium=member_desktop_web&rcm=ACoAAFv3Dr4BN8nSB5ZtHec3sqR14h9Sg79shsQ\n"
     ]
    }
   ],
   "source": [
    "for index, row in df_three.iloc[0:3].iterrows():\n",
    "    print(row[\"url\"])"
   ]
  },
  {
   "cell_type": "code",
   "execution_count": 29,
   "metadata": {},
   "outputs": [
    {
     "data": {
      "text/plain": [
       "0    https://www.linkedin.com/posts/sean-goldfaden_...\n",
       "1    https://www.linkedin.com/posts/sean-goldfaden_...\n",
       "Name: url, dtype: object"
      ]
     },
     "execution_count": 29,
     "metadata": {},
     "output_type": "execute_result"
    }
   ],
   "source": [
    "three_posts = pd.read_csv(\"three_posts.csv\")\n",
    "two_posts = three_posts.iloc[0:2]  # Get first two posts\n",
    "two_posts[\"url\"]"
   ]
  },
  {
   "cell_type": "code",
   "execution_count": 31,
   "metadata": {},
   "outputs": [
    {
     "data": {
      "text/html": [
       "<div>\n",
       "<style scoped>\n",
       "    .dataframe tbody tr th:only-of-type {\n",
       "        vertical-align: middle;\n",
       "    }\n",
       "\n",
       "    .dataframe tbody tr th {\n",
       "        vertical-align: top;\n",
       "    }\n",
       "\n",
       "    .dataframe thead th {\n",
       "        text-align: right;\n",
       "    }\n",
       "</style>\n",
       "<table border=\"1\" class=\"dataframe\">\n",
       "  <thead>\n",
       "    <tr style=\"text-align: right;\">\n",
       "      <th></th>\n",
       "      <th>Unnamed: 0</th>\n",
       "      <th>urn</th>\n",
       "      <th>full_urn</th>\n",
       "      <th>posted_at</th>\n",
       "      <th>text</th>\n",
       "      <th>url</th>\n",
       "      <th>post_type</th>\n",
       "      <th>author</th>\n",
       "      <th>stats</th>\n",
       "      <th>document</th>\n",
       "      <th>...</th>\n",
       "      <th>reshared_post</th>\n",
       "      <th>article</th>\n",
       "      <th>comments</th>\n",
       "      <th>reposts</th>\n",
       "      <th>reshared_post_url</th>\n",
       "      <th>reshared_post_total_reactions</th>\n",
       "      <th>media_type</th>\n",
       "      <th>media_url</th>\n",
       "      <th>article_url</th>\n",
       "      <th>article_title</th>\n",
       "    </tr>\n",
       "  </thead>\n",
       "  <tbody>\n",
       "    <tr>\n",
       "      <th>0</th>\n",
       "      <td>0</td>\n",
       "      <td>7340415388322586627</td>\n",
       "      <td>urn:li:ugcPost:7338633005688610817</td>\n",
       "      <td>{'date': '2025-06-16 18:30:06', 'relative': '3...</td>\n",
       "      <td>“There’s nothing more fun than saying yes.\\nBu...</td>\n",
       "      <td>https://www.linkedin.com/posts/sean-goldfaden_...</td>\n",
       "      <td>regular</td>\n",
       "      <td>Sean Goldfaden</td>\n",
       "      <td>{'total_reactions': 8, 'like': 8, 'support': 0...</td>\n",
       "      <td>{'title': \"Rick Smith's Tips for VC Success\", ...</td>\n",
       "      <td>...</td>\n",
       "      <td>NaN</td>\n",
       "      <td>NaN</td>\n",
       "      <td>1</td>\n",
       "      <td>0</td>\n",
       "      <td>NaN</td>\n",
       "      <td>NaN</td>\n",
       "      <td>NaN</td>\n",
       "      <td>NaN</td>\n",
       "      <td>NaN</td>\n",
       "      <td>NaN</td>\n",
       "    </tr>\n",
       "    <tr>\n",
       "      <th>1</th>\n",
       "      <td>1</td>\n",
       "      <td>7339320686634573826</td>\n",
       "      <td>urn:li:ugcPost:7337992009300832256</td>\n",
       "      <td>{'date': '2025-06-13 18:00:09', 'relative': '6...</td>\n",
       "      <td>We showed up to hire students… \\nand left with...</td>\n",
       "      <td>https://www.linkedin.com/posts/sean-goldfaden_...</td>\n",
       "      <td>regular</td>\n",
       "      <td>Sean Goldfaden</td>\n",
       "      <td>{'total_reactions': 2, 'like': 2, 'support': 0...</td>\n",
       "      <td>NaN</td>\n",
       "      <td>...</td>\n",
       "      <td>NaN</td>\n",
       "      <td>NaN</td>\n",
       "      <td>0</td>\n",
       "      <td>0</td>\n",
       "      <td>NaN</td>\n",
       "      <td>NaN</td>\n",
       "      <td>video</td>\n",
       "      <td>https://dms.licdn.com/playlist/vid/v2/D5605AQG...</td>\n",
       "      <td>NaN</td>\n",
       "      <td>NaN</td>\n",
       "    </tr>\n",
       "  </tbody>\n",
       "</table>\n",
       "<p>2 rows × 22 columns</p>\n",
       "</div>"
      ],
      "text/plain": [
       "   Unnamed: 0                  urn                            full_urn  \\\n",
       "0           0  7340415388322586627  urn:li:ugcPost:7338633005688610817   \n",
       "1           1  7339320686634573826  urn:li:ugcPost:7337992009300832256   \n",
       "\n",
       "                                           posted_at  \\\n",
       "0  {'date': '2025-06-16 18:30:06', 'relative': '3...   \n",
       "1  {'date': '2025-06-13 18:00:09', 'relative': '6...   \n",
       "\n",
       "                                                text  \\\n",
       "0  “There’s nothing more fun than saying yes.\\nBu...   \n",
       "1  We showed up to hire students… \\nand left with...   \n",
       "\n",
       "                                                 url post_type  \\\n",
       "0  https://www.linkedin.com/posts/sean-goldfaden_...   regular   \n",
       "1  https://www.linkedin.com/posts/sean-goldfaden_...   regular   \n",
       "\n",
       "           author                                              stats  \\\n",
       "0  Sean Goldfaden  {'total_reactions': 8, 'like': 8, 'support': 0...   \n",
       "1  Sean Goldfaden  {'total_reactions': 2, 'like': 2, 'support': 0...   \n",
       "\n",
       "                                            document  ... reshared_post  \\\n",
       "0  {'title': \"Rick Smith's Tips for VC Success\", ...  ...           NaN   \n",
       "1                                                NaN  ...           NaN   \n",
       "\n",
       "  article comments reposts  reshared_post_url  reshared_post_total_reactions  \\\n",
       "0     NaN        1       0                NaN                            NaN   \n",
       "1     NaN        0       0                NaN                            NaN   \n",
       "\n",
       "  media_type                                          media_url article_url  \\\n",
       "0        NaN                                                NaN         NaN   \n",
       "1      video  https://dms.licdn.com/playlist/vid/v2/D5605AQG...         NaN   \n",
       "\n",
       "  article_title  \n",
       "0           NaN  \n",
       "1           NaN  \n",
       "\n",
       "[2 rows x 22 columns]"
      ]
     },
     "execution_count": 31,
     "metadata": {},
     "output_type": "execute_result"
    }
   ],
   "source": [
    "pd.DataFrame(two_posts)"
   ]
  },
  {
   "cell_type": "code",
   "execution_count": null,
   "metadata": {},
   "outputs": [],
   "source": []
  }
 ],
 "metadata": {
  "kernelspec": {
   "display_name": "venv",
   "language": "python",
   "name": "python3"
  },
  "language_info": {
   "codemirror_mode": {
    "name": "ipython",
    "version": 3
   },
   "file_extension": ".py",
   "mimetype": "text/x-python",
   "name": "python",
   "nbconvert_exporter": "python",
   "pygments_lexer": "ipython3",
   "version": "3.11.8"
  }
 },
 "nbformat": 4,
 "nbformat_minor": 2
}
