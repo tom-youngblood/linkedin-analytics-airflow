{
 "cells": [
  {
   "cell_type": "code",
   "execution_count": 68,
   "metadata": {},
   "outputs": [],
   "source": [
    "import pandas as pd\n",
    "df = pd.read_csv(\"temp.csv\")"
   ]
  },
  {
   "cell_type": "code",
   "execution_count": 36,
   "metadata": {},
   "outputs": [
    {
     "data": {
      "text/plain": [
       "Index(['Unnamed: 0', 'urn', 'full_urn', 'posted_at', 'text', 'url',\n",
       "       'post_type', 'author', 'stats', 'document', 'pagination_token', 'media',\n",
       "       'reshared_post', 'article'],\n",
       "      dtype='object')"
      ]
     },
     "execution_count": 36,
     "metadata": {},
     "output_type": "execute_result"
    }
   ],
   "source": [
    "df.columns"
   ]
  },
  {
   "cell_type": "code",
   "execution_count": 35,
   "metadata": {},
   "outputs": [
    {
     "data": {
      "text/plain": [
       "post_type\n",
       "regular    78\n",
       "quote       5\n",
       "repost      2\n",
       "Name: count, dtype: int64"
      ]
     },
     "execution_count": 35,
     "metadata": {},
     "output_type": "execute_result"
    }
   ],
   "source": [
    "df[\"post_type\"].value_counts()"
   ]
  },
  {
   "cell_type": "code",
   "execution_count": null,
   "metadata": {},
   "outputs": [],
   "source": [
    "import ast\n",
    "# Convert author column\n",
    "df[\"author\"] = df[\"author\"].apply(lambda x: ast.literal_eval(x) if isinstance(x, str) else x)\n",
    "df[\"author\"] = df[\"author\"].apply(lambda x: f\"{x['first_name']} {x['last_name']}\")"
   ]
  },
  {
   "cell_type": "code",
   "execution_count": 41,
   "metadata": {},
   "outputs": [],
   "source": [
    "df[\"comments\"] = df[\"stats\"].apply(\n",
    "    lambda x: ast.literal_eval(x)[\"comments\"] if isinstance(x, str) else x.get(\"comments\")\n",
    ")"
   ]
  },
  {
   "cell_type": "code",
   "execution_count": 44,
   "metadata": {},
   "outputs": [],
   "source": [
    "df[\"reposts\"] = df[\"stats\"].apply(\n",
    "    lambda x: ast.literal_eval(x)[\"reposts\"] if isinstance(x, str) else x.get(\"comments\")\n",
    ")"
   ]
  },
  {
   "cell_type": "code",
   "execution_count": 45,
   "metadata": {},
   "outputs": [
    {
     "data": {
      "text/plain": [
       "0      0\n",
       "1      0\n",
       "2      0\n",
       "3      1\n",
       "4      0\n",
       "      ..\n",
       "80     1\n",
       "81     0\n",
       "82     2\n",
       "83     1\n",
       "84    13\n",
       "Name: reposts, Length: 85, dtype: int64"
      ]
     },
     "execution_count": 45,
     "metadata": {},
     "output_type": "execute_result"
    }
   ],
   "source": [
    "df[\"reposts\"]"
   ]
  },
  {
   "cell_type": "code",
   "execution_count": 49,
   "metadata": {},
   "outputs": [],
   "source": [
    "# Convert stringified dicts to dicts\n",
    "df[\"reshared_post\"] = df[\"reshared_post\"].apply(\n",
    "    lambda x: ast.literal_eval(x) if isinstance(x, str) and x != \"nan\" else x\n",
    ")\n",
    "\n",
    "# Add reshared_post_url column\n",
    "df[\"reshared_post_url\"] = df[\"reshared_post\"].apply(\n",
    "    lambda x: x.get(\"url\") if isinstance(x, dict) else None\n",
    ")\n",
    "\n",
    "# Add reshared_post_total_reactions column\n",
    "df[\"reshared_post_total_reactions\"] = df[\"reshared_post\"].apply(\n",
    "    lambda x: x.get(\"stats\", {}).get(\"total_reactions\") if isinstance(x, dict) else None\n",
    ")"
   ]
  },
  {
   "cell_type": "code",
   "execution_count": 71,
   "metadata": {},
   "outputs": [],
   "source": [
    "df[\"media\"] = df[\"media\"].apply(\n",
    "    lambda x: ast.literal_eval(x) if isinstance(x, str) and x != \"nan\" else x\n",
    ")\n",
    "\n",
    "# Add media_type column\n",
    "df[\"media_type\"] = df[\"media\"].apply(\n",
    "    lambda x: x.get(\"type\") if isinstance(x, dict) else None\n",
    ")\n",
    "\n",
    "# Add media_url column\n",
    "df[\"media_url\"] = df[\"media\"].apply(\n",
    "    lambda x: x.get(\"url\") if isinstance(x, dict) else None\n",
    ")"
   ]
  },
  {
   "cell_type": "code",
   "execution_count": 75,
   "metadata": {},
   "outputs": [
    {
     "data": {
      "text/plain": [
       "media_type\n",
       "video    68\n",
       "image     9\n",
       "Name: count, dtype: int64"
      ]
     },
     "execution_count": 75,
     "metadata": {},
     "output_type": "execute_result"
    }
   ],
   "source": [
    "df[\"media_type\"].value_counts()"
   ]
  },
  {
   "cell_type": "code",
   "execution_count": 80,
   "metadata": {},
   "outputs": [],
   "source": [
    "df[\"article\"] = df[\"article\"].apply(\n",
    "    lambda x: ast.literal_eval(x) if isinstance(x, str) and x != \"nan\" else x\n",
    ")\n",
    "\n",
    "# Add article_url column\n",
    "df[\"article_url\"] = df[\"article\"].apply(\n",
    "    lambda x: x.get(\"url\") if isinstance(x, dict) else None\n",
    ")\n",
    "\n",
    "# Add title column\n",
    "df[\"article_title\"] = df[\"article\"].apply(\n",
    "    lambda x: x.get(\"title\") if isinstance(x, dict) else None\n",
    ")\n"
   ]
  },
  {
   "cell_type": "code",
   "execution_count": 83,
   "metadata": {},
   "outputs": [
    {
     "data": {
      "text/plain": [
       "24    https://youtu.be/SYrykAGdi1E\n",
       "Name: article_url, dtype: object"
      ]
     },
     "execution_count": 83,
     "metadata": {},
     "output_type": "execute_result"
    }
   ],
   "source": [
    "df[\"article_url\"][df[\"article_url\"].notna()]"
   ]
  }
 ],
 "metadata": {
  "kernelspec": {
   "display_name": "venv",
   "language": "python",
   "name": "python3"
  },
  "language_info": {
   "codemirror_mode": {
    "name": "ipython",
    "version": 3
   },
   "file_extension": ".py",
   "mimetype": "text/x-python",
   "name": "python",
   "nbconvert_exporter": "python",
   "pygments_lexer": "ipython3",
   "version": "3.11.8"
  }
 },
 "nbformat": 4,
 "nbformat_minor": 2
}
